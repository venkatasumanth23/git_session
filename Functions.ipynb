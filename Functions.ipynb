{
 "cells": [
  {
   "cell_type": "markdown",
   "id": "5ce3b875-e576-4dd8-a878-e8473faa75b9",
   "metadata": {},
   "source": [
    "**Function**\n",
    "- reuse of the code block\n",
    "- function also called as method \n",
    "- function without arguments\n",
    "- function with arguments\n",
    "- function with default arguments\n",
    "- function with keyword arguments\n",
    "- function with global and local variable\n",
    "- function with return \n",
    "- function in function "
   ]
  },
  {
   "cell_type": "markdown",
   "id": "dad9350e-2a39-4962-be80-405dc7b73334",
   "metadata": {},
   "source": [
    "**Function without arguments**"
   ]
  },
  {
   "cell_type": "code",
   "execution_count": 1,
   "id": "6932d143-d565-4aea-b4a9-0044b9529e07",
   "metadata": {},
   "outputs": [
    {
     "ename": "SyntaxError",
     "evalue": "invalid syntax (1232733816.py, line 2)",
     "output_type": "error",
     "traceback": [
      "\u001b[1;36m  Cell \u001b[1;32mIn[1], line 2\u001b[1;36m\u001b[0m\n\u001b[1;33m    def <function name>():\u001b[0m\n\u001b[1;37m        ^\u001b[0m\n\u001b[1;31mSyntaxError\u001b[0m\u001b[1;31m:\u001b[0m invalid syntax\n"
     ]
    }
   ],
   "source": [
    "# syntax\n",
    "def <function name>():\n",
    "   <write your lines here>"
   ]
  },
  {
   "cell_type": "code",
   "execution_count": null,
   "id": "df27c208-e1c4-44c7-b0bf-3013cb6237da",
   "metadata": {},
   "outputs": [],
   "source": [
    "num1 = 100\n",
    "num2 = 200\n",
    "add = num1+num2\n",
    "print(f\"the add of {num1},{num2} is {add}\")"
   ]
  },
  {
   "cell_type": "code",
   "execution_count": null,
   "id": "9c891b9f-11f3-4347-aed4-1be9ae62e315",
   "metadata": {},
   "outputs": [],
   "source": [
    "def addition():\n",
    "    num1 = eval(input(\"enter the num1:->\"))\n",
    "    num2 = eval(input(\"enter the num2:->\"))\n",
    "    add = num1+num2\n",
    "    print(f\"the add of {num1},{num2} is {add}\")\n",
    "addition()"
   ]
  },
  {
   "cell_type": "code",
   "execution_count": null,
   "id": "4e3f9d4f-c3b6-4cbb-b656-67476daf556c",
   "metadata": {},
   "outputs": [],
   "source": [
    "def sub():\n",
    "    num1 = eval(input(\"enter the num1:->\"))\n",
    "    num2 = eval(input(\"enter the num2:->\"))\n",
    "    subr = num1-num2\n",
    "    print(f\"the sub of {num1},{num2} is {subr}\")\n",
    "sub()"
   ]
  },
  {
   "cell_type": "markdown",
   "id": "5319319d-aa49-49ab-82c4-3b8137fda7f6",
   "metadata": {},
   "source": [
    "**Note**\n",
    "- Function name rules same as variable rules\n",
    "  - no special charcters\n",
    "  - no numbers befor\n",
    "  - no spaces between words\n",
    " \n",
    "- Function name should not be any keywords\n",
    "- function name should not be any package name\n",
    "- function name should not be any file and notebook name\n",
    "- function name should not be any variable which is using inside that function\n",
    "- while defing the function we does not know whether the error is there or not\n",
    "- for that we need call the function\n",
    "- try- except should write inside the function"
   ]
  },
  {
   "cell_type": "code",
   "execution_count": null,
   "id": "3b5ce44b-cd33-40a0-aef5-34176f87595a",
   "metadata": {},
   "outputs": [],
   "source": [
    "try:\n",
    "    def sub1():  \n",
    "        num1 = eval(input(\"enter the num1:->\"))\n",
    "        num2 = eval(input(\"enter the num2:->\"))\n",
    "        subr = num11-num2\n",
    "        print(f\"the sub of {num1},{num2} is {subr}\")\n",
    "except Exception as e:\n",
    "    print(e)\n",
    "sub1()"
   ]
  },
  {
   "cell_type": "code",
   "execution_count": null,
   "id": "e806b86f-5e86-4fb8-af48-ff1156b0f51a",
   "metadata": {},
   "outputs": [],
   "source": [
    "def sub():\n",
    "    try: \n",
    "        num1 = eval(input(\"enter the num1:->\"))\n",
    "        num2 = eval(input(\"enter the num2:->\"))\n",
    "        subr = num12-num2\n",
    "        print(f\"the sub of {num1},{num2} is {subr}\")\n",
    "    except Exception as e:\n",
    "        print(e)\n",
    "sub()"
   ]
  },
  {
   "cell_type": "code",
   "execution_count": null,
   "id": "4b82cde5-29a7-404b-8ec4-d13b66360a14",
   "metadata": {},
   "outputs": [],
   "source": [
    "def ave():\n",
    "    n1 = eval(input())\n",
    "    n2 = eval(input())\n",
    "    n3 = eval(input())\n",
    "    n4 = (n1+n2+n3)/3\n",
    "    print(\"The average of three numbers is {}\".format(n4))\n",
    "ave()"
   ]
  },
  {
   "cell_type": "code",
   "execution_count": null,
   "id": "21d6e9ba-1a11-4b17-a24f-34b0ca3c3736",
   "metadata": {},
   "outputs": [],
   "source": [
    "def sum():\n",
    "    name = input(\"enter your name \")\n",
    "    age = input()\n",
    "    print(\"my name is {} and i'm living in hyd for past {} yrs\".format(name,age))\n",
    "sum()"
   ]
  },
  {
   "cell_type": "code",
   "execution_count": null,
   "id": "ecdec918-da1c-4a28-aa8a-396ce41c55e2",
   "metadata": {},
   "outputs": [],
   "source": [
    "def air():\n",
    "    radidus = eval(input())\n",
    "    pi = eval(input())\n",
    "    area = pi*radidus*radidus\n",
    "    print(\"The area of the circle is {} \".format(area))\n",
    "air()"
   ]
  },
  {
   "cell_type": "code",
   "execution_count": null,
   "id": "9d08aa1c-0a16-43ea-8368-54b51ddc3a12",
   "metadata": {},
   "outputs": [],
   "source": [
    "def air1():\n",
    "    breadth = eval(input())\n",
    "    height = eval(input())\n",
    "    area = 0.5*breadth*height\n",
    "    print(\"the breadth of triangle is {} and height is {} and the total area is {}\".format(breadth,height,area))\n",
    "air1()"
   ]
  },
  {
   "cell_type": "code",
   "execution_count": null,
   "id": "c4118302-e099-42a7-bbcc-43be66be806f",
   "metadata": {},
   "outputs": [],
   "source": [
    "def bill1():\n",
    "    bill = eval(input())\n",
    "    tip = eval(input())\n",
    "    total_bill = bill + tip\n",
    "    print(\"The bill for food items is {} and tip for servies is {} the total amouth i spend is {}\".format(bill,tip,total_bill))\n",
    "bill1()"
   ]
  },
  {
   "cell_type": "code",
   "execution_count": null,
   "id": "0b10fb24-683e-48e7-8bd9-34ded491e8bc",
   "metadata": {},
   "outputs": [],
   "source": [
    "def bill2():\n",
    "    bill = eval(input())\n",
    "    tip = eval(input())\n",
    "    total_bill = bill + (bill*tip)/100\n",
    "    print(\"The bill for food items is {} and tip for servies he asked to pay in percrntage is {} the total amouth i spend is {}\".format(bill,tip,total_bill))\n",
    "bill2()"
   ]
  },
  {
   "cell_type": "code",
   "execution_count": null,
   "id": "e80d1c04-bbcc-4719-9831-f2c8f18e6d34",
   "metadata": {},
   "outputs": [],
   "source": [
    "def rai():\n",
    "    radidus = eval(input())\n",
    "    pi = eval(input())\n",
    "    area = pi*radidus*radidus*radidus\n",
    "    print(\"The area of the circle is {} \".format(area))\n",
    "rai()"
   ]
  },
  {
   "cell_type": "code",
   "execution_count": null,
   "id": "75cd6c16-9113-4607-8ffe-7b25d27eadd7",
   "metadata": {},
   "outputs": [],
   "source": [
    "def rup():\n",
    "    try:\n",
    "        conve_rate = eval(input())\n",
    "        dollars = eval(input(\"Enter the amount in dollars \"))\n",
    "        rupees = dollars*conve_rate\n",
    "        print(\"USD dollar {} is equal to {} INR\".format(dollars,rupees))\n",
    "    except Exception as e:\n",
    "        print(e)\n",
    "rup()"
   ]
  },
  {
   "cell_type": "code",
   "execution_count": null,
   "id": "acd55738-1ddb-498e-ac57-ae492b87f0b8",
   "metadata": {},
   "outputs": [],
   "source": [
    "def pou():\n",
    "    try:\n",
    "        conv_fact = eval(input())\n",
    "        weigth_kgs = eval(input(\"enter the weight in kgs \"))\n",
    "        weigth_in_pounds = weigth_kgs * conv_fact\n",
    "        print(\"The total weight in pounds is {}\".format(weigth_in_pounds))\n",
    "    except Exception as e:\n",
    "        print(e)\n",
    "pou()"
   ]
  },
  {
   "cell_type": "code",
   "execution_count": null,
   "id": "61dd16f8-c9a1-4beb-b560-fbd485682209",
   "metadata": {},
   "outputs": [],
   "source": []
  },
  {
   "cell_type": "markdown",
   "id": "a74b5b45-a613-4a51-967a-dc28d76b98d3",
   "metadata": {},
   "source": [
    "**Function with agurments**"
   ]
  },
  {
   "cell_type": "code",
   "execution_count": null,
   "id": "0b0f5945-83be-4088-b385-8863f0aec6bf",
   "metadata": {},
   "outputs": [],
   "source": [
    "def add(n1,n2):\n",
    "    add = n1+n2\n",
    "    print(f\"the sum of n1 = {n1} and n2 =  {n2} is {add}\")\n",
    "add(23,26)"
   ]
  },
  {
   "cell_type": "code",
   "execution_count": null,
   "id": "b442f45f-abe6-4d73-a6cf-55e29d557945",
   "metadata": {},
   "outputs": [],
   "source": []
  },
  {
   "cell_type": "code",
   "execution_count": null,
   "id": "c9c714ef-1b18-4dda-b6bf-879c470f4508",
   "metadata": {},
   "outputs": [],
   "source": [
    "def add():\n",
    "    n1 = eval(input(\"Enter the n1\"))\n",
    "    n2 = eval(input(\"Enter the n2\"))\n",
    "    adds = n1 + n2\n",
    "    print(f\"the sum of n1 = {n1} and n2 =  {n2} is {adds}\")\n",
    "\n",
    "def add1(n1,n2):\n",
    "    addss = n1 + n2\n",
    "    print(f\"the sum of n1 = {n1} and n2 =  {n2} is {addss}\")\n",
    "\n",
    "def add2(n1):\n",
    "    n2 = eval(input(\"Enter the n2\"))\n",
    "    addsss = n1 + n2\n",
    "    print(f\"the sum of n1 = {n1} and n2 =  {n2} is {addsss}\")"
   ]
  },
  {
   "cell_type": "code",
   "execution_count": null,
   "id": "cc67fe33-2b1a-466e-8d66-d50b6f335715",
   "metadata": {},
   "outputs": [],
   "source": [
    "add()\n",
    "\n",
    "add1(10,29)\n",
    "\n",
    "add2(18)"
   ]
  },
  {
   "cell_type": "code",
   "execution_count": null,
   "id": "4c3e170f-34fe-45dd-bb95-2a404bf719ae",
   "metadata": {},
   "outputs": [],
   "source": []
  },
  {
   "cell_type": "code",
   "execution_count": null,
   "id": "ec8743a1-1ba3-4873-a86e-e8e010a62312",
   "metadata": {},
   "outputs": [],
   "source": [
    "print(\"function with out arguments\")\n",
    "def all():\n",
    "    sal = eval(input(\"enter the number\"))\n",
    "    tax_per = eval(input(\"enter the tax\"))\n",
    "    tax_pay = (sal*tax_per)/100\n",
    "    print(tax_pay)\n",
    "all()\n",
    "\n",
    "print(\"function with arguments\")\n",
    "def all1(sal,tax_per):\n",
    "    tax_pay = (sal*tax_per)/100\n",
    "    print(tax_pay)\n",
    "all1(50000,10)\n",
    "\n",
    "print(\"function with defualt arguments\")\n",
    "def all2(sal,tax_per= 18):\n",
    "    tax_pay = (sal*tax_per)/100\n",
    "    print(tax_pay)\n",
    "all2(50000)"
   ]
  },
  {
   "cell_type": "code",
   "execution_count": null,
   "id": "4d8cf0ea-f804-4830-ab26-377959cc040b",
   "metadata": {},
   "outputs": [],
   "source": []
  },
  {
   "cell_type": "markdown",
   "id": "ab74cb21-28e9-4daa-97a3-2bfeec33018f",
   "metadata": {},
   "source": [
    "- now onwards whenever you see any package\n",
    "- always do shift + tab inside the brackets and observe\n",
    "- with or without or default"
   ]
  },
  {
   "cell_type": "code",
   "execution_count": null,
   "id": "c971f4f5-5956-4648-9589-3f03043cd371",
   "metadata": {},
   "outputs": [],
   "source": [
    "def add(a,b,c=29):\n",
    "    print('a:',a)\n",
    "    print('b:',b)\n",
    "    print('c:',c)\n",
    "    summ = a+b+c\n",
    "    print(f'the sum of a{a} , b{b} ,c{c} is {summ}')\n",
    "add(23,26,29)"
   ]
  },
  {
   "cell_type": "code",
   "execution_count": null,
   "id": "2db3b06a-626a-4efa-92e4-e4a67c9e866e",
   "metadata": {},
   "outputs": [],
   "source": [
    "def add(a,b,c=9):\n",
    "    print('a:',a)\n",
    "    print('b:',b)\n",
    "    print('c:',c)\n",
    "    summ = a+b+c\n",
    "    print(f'the sum of a{a} , b{b} ,c{c} is {summ}')\n",
    "add(23,26,290)"
   ]
  },
  {
   "cell_type": "code",
   "execution_count": null,
   "id": "7f882403-0c2d-4394-814d-772de3f4cfdc",
   "metadata": {},
   "outputs": [],
   "source": [
    "- in above case we already provided default value c = 9\n",
    "- but while we call the function c value become c = 290\n",
    "- step-1: define the function: while define what is the value 9\n",
    "- step-2: call the function: while call the function what is the value 290\n",
    "- step-3: running the function : while running what is the value 290 "
   ]
  },
  {
   "cell_type": "code",
   "execution_count": null,
   "id": "62f0c47a-1913-4359-af65-aa3522cd2571",
   "metadata": {},
   "outputs": [],
   "source": [
    "def add(a,b,c=400):\n",
    "    c = 1000\n",
    "    print('a:',a)\n",
    "    print('b:',b)\n",
    "    print('c:',c)\n",
    "    summ = a+b+c\n",
    "    print(f'the sum of a{a} , b{b} ,c{c} is {summ}')\n",
    "add(23,26,300)\n",
    "\n",
    "#while define c = 400\n",
    "#while calling c = 600\n",
    "#while running c = 1000 b"
   ]
  },
  {
   "cell_type": "code",
   "execution_count": null,
   "id": "fcfea7ab-186d-45cb-a5cf-ab7155e35197",
   "metadata": {},
   "outputs": [],
   "source": []
  },
  {
   "cell_type": "markdown",
   "id": "b4071d7f-b1c3-4a23-a1d2-46cff2ea5232",
   "metadata": {},
   "source": [
    "**Globel variables vs local variables**\n",
    "- The variables outside the function is called as **Global variables**\n",
    "   - Global variables can use anywhere\n",
    "   - global variables can be used inside the function also outside the function\n",
    "- The variable inside the function is called as **local variables**\n",
    "   - local variables can be use only inside function\n",
    "   - local variables can not use the outside the function"
   ]
  },
  {
   "cell_type": "code",
   "execution_count": null,
   "id": "1692a05f-e132-456d-bd7f-89d7de62b223",
   "metadata": {},
   "outputs": [],
   "source": [
    "#Global variables\n",
    "n1= 1000\n",
    "n2 = 2000\n",
    "def addi():\n",
    "    summ = n1+n2\n",
    "    print(f\"the sum of n1 {n1} and n2 {n2} is {summ}\")\n",
    "addi()"
   ]
  },
  {
   "cell_type": "markdown",
   "id": "34d356a7-ab6c-4d87-b2db-cff981dc3a70",
   "metadata": {},
   "source": [
    "**how to convert local variable to global variable**\n",
    "- if we want to use summ variable outside the function\n",
    "- then intialise summ as global also using global keyword"
   ]
  },
  {
   "cell_type": "code",
   "execution_count": null,
   "id": "b21b3cfe-2baf-48e7-9640-505fd206cdd1",
   "metadata": {},
   "outputs": [],
   "source": [
    "#Local variables\n",
    "def addi1():\n",
    "    n1= 1010\n",
    "    n2 = 2020\n",
    "    global summ1\n",
    "    summ1 = n1+n2\n",
    "    print(f\"the sum of n1 {n1} and n2 {n2} is {summ1}\")\n",
    "addi1()"
   ]
  },
  {
   "cell_type": "code",
   "execution_count": null,
   "id": "e19604d7-e8b4-4a52-b857-f90a0603b11f",
   "metadata": {},
   "outputs": [],
   "source": [
    "summ1"
   ]
  },
  {
   "cell_type": "markdown",
   "id": "6ab98b56-1803-493b-94f7-81bb12e39b18",
   "metadata": {},
   "source": [
    "**unbound local error**\n",
    "- In below example s is not intilised\n",
    "- we might think name error will come\n",
    "- but inside function we will get unbound local error"
   ]
  },
  {
   "cell_type": "code",
   "execution_count": null,
   "id": "795810b8-8be1-44ca-bc24-780b6267e8e9",
   "metadata": {},
   "outputs": [],
   "source": [
    "def add1():\n",
    "    n1=100\n",
    "    s1=summ22+n1\n",
    "    print(s1)\n",
    "add1()"
   ]
  },
  {
   "cell_type": "code",
   "execution_count": null,
   "id": "b562a601-72a0-48d7-8d02-d202904f15e1",
   "metadata": {},
   "outputs": [],
   "source": [
    "def add1():\n",
    "    n1=100\n",
    "    summ22=summ22+n1\n",
    "    print(s1)\n",
    "add1()"
   ]
  },
  {
   "cell_type": "code",
   "execution_count": null,
   "id": "8ae651d2-8ac4-4929-9b84-71b36b743086",
   "metadata": {},
   "outputs": [],
   "source": [
    "def add3():\n",
    "    summ4=100\n",
    "    n1=200\n",
    "    summ4=summ4+n1\n",
    "    print(summ4)\n",
    "add3()"
   ]
  },
  {
   "cell_type": "code",
   "execution_count": null,
   "id": "7eb33ec3-0e2b-4ff4-8dc7-6804849d33d1",
   "metadata": {},
   "outputs": [],
   "source": [
    "def avg(a,b,c):\n",
    "    global Add ,Avg1\n",
    "    Add = a+b+c\n",
    "    Avg1 = (Add)/3\n",
    "    print(Add,Avg1)\n",
    "avg(23,34,56)"
   ]
  },
  {
   "cell_type": "code",
   "execution_count": null,
   "id": "00cdcb7f-3d3d-48f4-b0d3-2863980d4578",
   "metadata": {},
   "outputs": [],
   "source": [
    "Add"
   ]
  },
  {
   "cell_type": "code",
   "execution_count": null,
   "id": "f5ad8e58-8cba-4d64-9b89-8a3114e5ded4",
   "metadata": {},
   "outputs": [],
   "source": [
    "Avg1"
   ]
  },
  {
   "cell_type": "code",
   "execution_count": null,
   "id": "8194a945-3c10-4847-b865-f16343f8c8cb",
   "metadata": {},
   "outputs": [],
   "source": []
  },
  {
   "cell_type": "code",
   "execution_count": 14,
   "id": "fe2e5a47-a532-4e12-bfa3-2db670efc22b",
   "metadata": {},
   "outputs": [
    {
     "name": "stdout",
     "output_type": "stream",
     "text": [
      "not\n"
     ]
    }
   ],
   "source": [
    "a = 2023\n",
    "if a%4 == 0 and a%100 !=0 or a%400 == 0:\n",
    "    print(\"hi\")\n",
    "else:\n",
    "    print(\"not\")"
   ]
  },
  {
   "cell_type": "code",
   "execution_count": 7,
   "id": "41df0dfe-211f-4001-ac8d-fe4f08995466",
   "metadata": {},
   "outputs": [
    {
     "name": "stdin",
     "output_type": "stream",
     "text": [
      " 26\n"
     ]
    },
    {
     "name": "stdout",
     "output_type": "stream",
     "text": [
      "26 is even number\n"
     ]
    }
   ],
   "source": [
    "def even_odd():\n",
    "    n1= int(input())\n",
    "    if n1%2==0:\n",
    "        print(f\"{n1} is even number\")\n",
    "    else:\n",
    "        print(f\"{n1} is odd number\")\n",
    "even_odd()"
   ]
  },
  {
   "cell_type": "code",
   "execution_count": 9,
   "id": "fcc3cd42-2150-4e6d-8c05-93079437b854",
   "metadata": {},
   "outputs": [
    {
     "name": "stdout",
     "output_type": "stream",
     "text": [
      "25 is odd number\n"
     ]
    }
   ],
   "source": [
    "def even_odd(n2):\n",
    "    if n2%2==0:\n",
    "        print(f\"{n2} is even number\")\n",
    "    else:\n",
    "        print(f\"{n2} is odd number\")\n",
    "even_odd(25)"
   ]
  },
  {
   "cell_type": "code",
   "execution_count": 10,
   "id": "d9050c57-1a7e-471c-86e5-618b30bd873f",
   "metadata": {},
   "outputs": [
    {
     "name": "stdout",
     "output_type": "stream",
     "text": [
      "109 is odd number\n"
     ]
    }
   ],
   "source": [
    "def even_odd(n3=109):\n",
    "    if n3%2==0:\n",
    "        print(f\"{n3} is even number\")\n",
    "    else:\n",
    "        print(f\"{n3} is odd number\")\n",
    "even_odd()"
   ]
  },
  {
   "cell_type": "markdown",
   "id": "0ecdb455-9794-4bb5-9796-6173a2e4fd70",
   "metadata": {},
   "source": [
    " **Parameter vs Variable**"
   ]
  },
  {
   "cell_type": "markdown",
   "id": "e75bb771-6ab3-4088-b75b-b2937e1110ed",
   "metadata": {},
   "source": [
    "- Parrameter also called as a Arguments\n",
    "   - This always inside the function brackets\n",
    "- Variables either outside the function or inside the function"
   ]
  },
  {
   "cell_type": "markdown",
   "id": "932b9603-4e4b-4104-8c3b-4f9b39c4f50c",
   "metadata": {},
   "source": [
    "**return**\n",
    "- return means function is giving something\n",
    "- we know that local variables can not use outside the function\n",
    "- in order to use local variables outside the function, we have two methods\n",
    "- global\n",
    "- return"
   ]
  },
  {
   "cell_type": "code",
   "execution_count": 16,
   "id": "c20d70bf-9dd6-4ec3-851d-63de4986f562",
   "metadata": {},
   "outputs": [],
   "source": [
    "def add():\n",
    "    a=10\n",
    "    b=20\n",
    "    c=a+b\n",
    "    return(c,b)\n",
    "    \n",
    "c=add()"
   ]
  },
  {
   "cell_type": "code",
   "execution_count": 17,
   "id": "7d2d4998-5c68-4e34-ae90-625ca3ec0e93",
   "metadata": {},
   "outputs": [
    {
     "data": {
      "text/plain": [
       "(30, 20)"
      ]
     },
     "execution_count": 17,
     "metadata": {},
     "output_type": "execute_result"
    }
   ],
   "source": [
    "c"
   ]
  },
  {
   "cell_type": "code",
   "execution_count": 18,
   "id": "af7146df-d5b3-4992-a11a-aacb53735a0a",
   "metadata": {},
   "outputs": [],
   "source": [
    "def avg(a,b,c):\n",
    "    summ1=a+b+c\n",
    "    Avg = (summ1)/3\n",
    "    return(Avg,summ1)\n",
    "t=avg(2,3,4)"
   ]
  },
  {
   "cell_type": "code",
   "execution_count": 19,
   "id": "13cacca8-fd98-4833-8e36-b0a7cf6416e4",
   "metadata": {},
   "outputs": [
    {
     "data": {
      "text/plain": [
       "(3.0, 9)"
      ]
     },
     "execution_count": 19,
     "metadata": {},
     "output_type": "execute_result"
    }
   ],
   "source": [
    "t"
   ]
  },
  {
   "cell_type": "code",
   "execution_count": 27,
   "id": "369a3d94-ff69-463b-82ad-04f1bbb72a06",
   "metadata": {},
   "outputs": [
    {
     "name": "stdin",
     "output_type": "stream",
     "text": [
      " 4567\n"
     ]
    },
    {
     "name": "stdout",
     "output_type": "stream",
     "text": [
      "4567 is odd number\n",
      "False\n"
     ]
    }
   ],
   "source": [
    "def even_odd():\n",
    "    n1= int(input())\n",
    "    if n1%2==0:\n",
    "        print(f\"{n1} is even number\")\n",
    "        return True\n",
    "    else:\n",
    "        print(f\"{n1} is odd number\")\n",
    "        return False\n",
    "    \n",
    "    \n",
    "h=even_odd()\n",
    "print(h)"
   ]
  },
  {
   "cell_type": "code",
   "execution_count": 26,
   "id": "dd9c86e6-4a3c-47ae-83d6-21f58a3ea981",
   "metadata": {},
   "outputs": [
    {
     "data": {
      "text/plain": [
       "True"
      ]
     },
     "execution_count": 26,
     "metadata": {},
     "output_type": "execute_result"
    }
   ],
   "source": [
    "h"
   ]
  },
  {
   "cell_type": "markdown",
   "id": "6fac574e-1f03-4cc0-a230-84fcbbb03b6c",
   "metadata": {},
   "source": [
    "**function in function**"
   ]
  },
  {
   "cell_type": "code",
   "execution_count": 29,
   "id": "6fd9e5bc-f46e-448b-a636-0905a67e9748",
   "metadata": {},
   "outputs": [
    {
     "name": "stdout",
     "output_type": "stream",
     "text": [
      "hi this sumanth\n",
      "good morning\n"
     ]
    }
   ],
   "source": [
    "def greet1():\n",
    "    print(\"hi this sumanth\")\n",
    "def greet2():\n",
    "    print(\"good morning\")\n",
    "\n",
    "greet1()\n",
    "greet2()"
   ]
  },
  {
   "cell_type": "code",
   "execution_count": 30,
   "id": "a23a5f7a-9535-448d-a65d-56f231c2bef0",
   "metadata": {},
   "outputs": [
    {
     "name": "stdout",
     "output_type": "stream",
     "text": [
      "good morning\n",
      "hi this sumanth\n"
     ]
    }
   ],
   "source": [
    "def greet1():\n",
    "    print(\"hi this sumanth\")\n",
    "def greet2():\n",
    "    print(\"good morning\")\n",
    "\n",
    "greet2()\n",
    "greet1()"
   ]
  },
  {
   "cell_type": "code",
   "execution_count": 34,
   "id": "97993f2c-e472-49eb-8572-063347fe8eec",
   "metadata": {},
   "outputs": [
    {
     "name": "stdout",
     "output_type": "stream",
     "text": [
      "good morning\n"
     ]
    }
   ],
   "source": [
    "def greet1():\n",
    "    print(\"hi this sumanth\")\n",
    "    greet2()\n",
    "def greet2():\n",
    "    print(\"good morning\")\n",
    "\n",
    "greet2()"
   ]
  },
  {
   "cell_type": "code",
   "execution_count": 35,
   "id": "dac22e88-bf4d-4d64-bc66-6ee883411cda",
   "metadata": {},
   "outputs": [
    {
     "name": "stdout",
     "output_type": "stream",
     "text": [
      "hi this sumanth\n",
      "good morning\n"
     ]
    }
   ],
   "source": [
    "def greet1():\n",
    "    print(\"hi this sumanth\")\n",
    "    greet2()\n",
    "def greet2():\n",
    "    print(\"good morning\")\n",
    "\n",
    "greet1()"
   ]
  },
  {
   "cell_type": "code",
   "execution_count": null,
   "id": "b0521a06-a413-4787-98f3-194dab23e1ca",
   "metadata": {},
   "outputs": [],
   "source": []
  },
  {
   "cell_type": "code",
   "execution_count": 41,
   "id": "fce0d505-74f1-409e-9844-53dd44642b83",
   "metadata": {},
   "outputs": [
    {
     "data": {
      "text/plain": [
       "15"
      ]
     },
     "execution_count": 41,
     "metadata": {},
     "output_type": "execute_result"
    }
   ],
   "source": [
    "def add(n):\n",
    "    if n == 0:\n",
    "        return(0)\n",
    "    else:\n",
    "        return(n+add(n-1))\n",
    "add(5)"
   ]
  },
  {
   "cell_type": "code",
   "execution_count": 45,
   "id": "4875d94d-3eb7-4048-be71-5884f7da8694",
   "metadata": {},
   "outputs": [
    {
     "name": "stdin",
     "output_type": "stream",
     "text": [
      " 5\n"
     ]
    },
    {
     "name": "stdout",
     "output_type": "stream",
     "text": [
      "12345"
     ]
    }
   ],
   "source": [
    "def sum1():\n",
    "    n = int(input())\n",
    "    for i in range(1,n+1):\n",
    "        print(i,end=\"\")\n",
    "sum1()"
   ]
  },
  {
   "cell_type": "code",
   "execution_count": null,
   "id": "7bcd38ce-0ba8-432c-bae3-d32f7b9537ee",
   "metadata": {},
   "outputs": [],
   "source": []
  },
  {
   "cell_type": "code",
   "execution_count": null,
   "id": "1d336c6c-320d-4caf-93f5-cb2187669690",
   "metadata": {},
   "outputs": [],
   "source": [
    "Q1). Factorial recursion 5! = 5*4*3*2*1\n",
    "Q2). Calcultor\n",
    "Q3). "
   ]
  },
  {
   "cell_type": "code",
   "execution_count": 3,
   "id": "78e0edd1-d73a-45ab-8a84-36f925051fbd",
   "metadata": {},
   "outputs": [
    {
     "data": {
      "text/plain": [
       "120"
      ]
     },
     "execution_count": 3,
     "metadata": {},
     "output_type": "execute_result"
    }
   ],
   "source": [
    "def fact(n):\n",
    "    if n == 0:\n",
    "        return 1\n",
    "    else:\n",
    "        return(n*fact(n-1))\n",
    "fact(5)\n",
    "        "
   ]
  },
  {
   "cell_type": "code",
   "execution_count": null,
   "id": "a4c8d576-ab86-43a5-a305-997f4eb9dd86",
   "metadata": {},
   "outputs": [],
   "source": []
  },
  {
   "cell_type": "code",
   "execution_count": 13,
   "id": "bfb01025-437d-4502-a71e-4dcd1f3bd443",
   "metadata": {},
   "outputs": [
    {
     "name": "stdout",
     "output_type": "stream",
     "text": [
      "Select 1 for add\n",
      "Select 2 for sub\n",
      "Select 3 for mult\n",
      "select 4 for div\n"
     ]
    },
    {
     "name": "stdin",
     "output_type": "stream",
     "text": [
      "Enter the number 1 to 4 4\n",
      "enter the number to a 56\n",
      "enter the number to b 23\n"
     ]
    },
    {
     "name": "stdout",
     "output_type": "stream",
     "text": [
      "The div of a 56 and b 23 is \n"
     ]
    },
    {
     "data": {
      "text/plain": [
       "2.4347826086956523"
      ]
     },
     "execution_count": 13,
     "metadata": {},
     "output_type": "execute_result"
    }
   ],
   "source": [
    "def addd(a,b):\n",
    "    return (a+b)\n",
    "def sub(a,b):\n",
    "    return(a-b)\n",
    "def mul(a,b):\n",
    "    return(a*b)\n",
    "def div(a,b):\n",
    "    return(a/b)\n",
    "\n",
    "print(\"Select 1 for add\")\n",
    "print(\"Select 2 for sub\")\n",
    "print(\"Select 3 for mult\")\n",
    "print(\"select 4 for div\")\n",
    "\n",
    "enter = int(input(\"Enter the number 1 to 4\"))\n",
    "\n",
    "a=eval(input(\"enter the number to a\"))\n",
    "b=eval(input(\"enter the number to b\"))\n",
    "def main():\n",
    "    if enter == 1:\n",
    "        print(f\"The addition of a {a} and b {b} is \")\n",
    "        return add(a,b)\n",
    "    elif enter ==2:\n",
    "        print(f\"The subration of a {a} and b {b} is \")\n",
    "        return sub(a,b)\n",
    "    elif enter ==3:\n",
    "        print(f\"The multiplication of a {a} and b {b} is \")\n",
    "        return mul(a,b)\n",
    "    elif enter == 4:\n",
    "        print(f\"The div of a {a} and b {b} is \")\n",
    "        return div(a,b)\n",
    "    else:\n",
    "        print(\"enter the valid number\")\n",
    "main()"
   ]
  },
  {
   "cell_type": "markdown",
   "id": "95c4ac4b-1d34-494f-9f7e-9a7ebfb4b2c9",
   "metadata": {},
   "source": [
    "**1. Write a Python function to find the maximum of three numbers.**"
   ]
  },
  {
   "cell_type": "code",
   "execution_count": 5,
   "id": "54df6923-761f-43ce-bb4c-58f7db797f5a",
   "metadata": {},
   "outputs": [
    {
     "data": {
      "text/plain": [
       "33"
      ]
     },
     "execution_count": 5,
     "metadata": {},
     "output_type": "execute_result"
    }
   ],
   "source": [
    "def max(x,y):\n",
    "    if x>y:\n",
    "        return x\n",
    "    return y\n",
    "def max_three(x,y,z):\n",
    "    return max(x,max(y,z))\n",
    "max_three(4,9,33)"
   ]
  },
  {
   "cell_type": "markdown",
   "id": "61fec91c-521a-4997-a9de-e887eee9d128",
   "metadata": {},
   "source": [
    "**2. Write a Python function to sum all the numbers in a list.**"
   ]
  },
  {
   "cell_type": "code",
   "execution_count": 8,
   "id": "23dcf3a3-f069-4b91-b442-ee100d825d06",
   "metadata": {},
   "outputs": [
    {
     "data": {
      "text/plain": [
       "17"
      ]
     },
     "execution_count": 8,
     "metadata": {},
     "output_type": "execute_result"
    }
   ],
   "source": [
    "def all_sum():\n",
    "    this = [2,8,5,0,2]\n",
    "    total =0\n",
    "    for i in this:\n",
    "        total += i\n",
    "    return total\n",
    "all_sum()"
   ]
  },
  {
   "cell_type": "markdown",
   "id": "80d800de-3ca3-4755-9995-5db1049e69a0",
   "metadata": {},
   "source": [
    "**3. Write a Python function to multiply all the numbers in a list.**"
   ]
  },
  {
   "cell_type": "code",
   "execution_count": 12,
   "id": "098f3769-f609-406c-8848-718424912f5a",
   "metadata": {},
   "outputs": [
    {
     "data": {
      "text/plain": [
       "3888"
      ]
     },
     "execution_count": 12,
     "metadata": {},
     "output_type": "execute_result"
    }
   ],
   "source": [
    "def mul_num():\n",
    "    this_list = [6,3,9,4,6]\n",
    "    total1 = 1\n",
    "    for i in this_list:\n",
    "        total1 *= i\n",
    "    return total1\n",
    "mul_num()"
   ]
  },
  {
   "cell_type": "markdown",
   "id": "45ad078e-4a24-4926-8f15-bead8495099f",
   "metadata": {},
   "source": [
    "**4. Write a Python program to reverse a string.**"
   ]
  },
  {
   "cell_type": "code",
   "execution_count": 16,
   "id": "b3c742eb-1deb-431b-9580-1890d34833fa",
   "metadata": {},
   "outputs": [
    {
     "data": {
      "text/plain": [
       "'dcba4321'"
      ]
     },
     "execution_count": 16,
     "metadata": {},
     "output_type": "execute_result"
    }
   ],
   "source": [
    "def rev():\n",
    "    st=\"1234abcd\"\n",
    "    st1 = st[::-1]\n",
    "    return st1\n",
    "rev()"
   ]
  },
  {
   "cell_type": "markdown",
   "id": "4384575d-3ca6-496e-97ec-52b19cb561a2",
   "metadata": {},
   "source": [
    "**Write a Python function to check whether a number falls within a given range**"
   ]
  },
  {
   "cell_type": "code",
   "execution_count": 30,
   "id": "1a7c1be9-1a4d-4c5f-bd1a-c3707a090013",
   "metadata": {},
   "outputs": [
    {
     "name": "stdout",
     "output_type": "stream",
     "text": [
      "the number is not range\n"
     ]
    }
   ],
   "source": [
    "def num_fall(num1):\n",
    "    if num1 in range(1,100):\n",
    "        print(\"the numbers are in range\")\n",
    "    else:\n",
    "        print(\"the number is not range\")\n",
    "    return\n",
    "num_fall(989)\n"
   ]
  },
  {
   "cell_type": "markdown",
   "id": "a6c23437-3a44-46e1-96e5-760826ea5934",
   "metadata": {},
   "source": [
    "**7. Write a Python function that accepts a string and counts the number of upper and lower case letters.**"
   ]
  },
  {
   "cell_type": "code",
   "execution_count": 7,
   "id": "3a5ba38e-47d8-4255-886a-008ec07c7ea5",
   "metadata": {},
   "outputs": [
    {
     "name": "stdout",
     "output_type": "stream",
     "text": [
      "The upper case letters are <built-in method isupper of str object at 0x00000140B2C76230>\n",
      "The lower case letters are <built-in method islower of str object at 0x00000140B2C76230>\n"
     ]
    }
   ],
   "source": [
    "def cas():\n",
    "    str = \"SuMaNtH VenKata\"\n",
    "    count_of_upper = str.isupper\n",
    "    s = count_of_upper\n",
    "    count_of_lower = str.islower\n",
    "    print(f\"The upper case letters are {s}\")\n",
    "    print(f\"The lower case letters are {count_of_lower}\")\n",
    "\n",
    "cas()"
   ]
  },
  {
   "cell_type": "code",
   "execution_count": null,
   "id": "85fbfa5a-0a0c-4a19-a662-9a155ddda483",
   "metadata": {},
   "outputs": [],
   "source": []
  }
 ],
 "metadata": {
  "kernelspec": {
   "display_name": "Python 3 (ipykernel)",
   "language": "python",
   "name": "python3"
  },
  "language_info": {
   "codemirror_mode": {
    "name": "ipython",
    "version": 3
   },
   "file_extension": ".py",
   "mimetype": "text/x-python",
   "name": "python",
   "nbconvert_exporter": "python",
   "pygments_lexer": "ipython3",
   "version": "3.12.4"
  }
 },
 "nbformat": 4,
 "nbformat_minor": 5
}
