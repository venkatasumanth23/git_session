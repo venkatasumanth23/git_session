{
 "cells": [
  {
   "cell_type": "markdown",
   "id": "26821bfe-1af3-4537-b996-6bf089523836",
   "metadata": {},
   "source": [
    "**Data types**"
   ]
  },
  {
   "cell_type": "markdown",
   "id": "b4f22a5d-cf8f-44d9-8667-ae0d50527e9d",
   "metadata": {},
   "source": [
    "- Interger\n",
    "- Float\n",
    "- String\n",
    "- list\n",
    "- tuple\n",
    "- set\n",
    "- frozenset\n",
    "- dictionary\n",
    "- boolen\n",
    "- complex\n",
    "- range\n",
    "- byte\n",
    "- byte array\n",
    "- memory array\n",
    "- none type"
   ]
  },
  {
   "cell_type": "markdown",
   "id": "e8aeca5c-8a7a-4bd1-b03a-569e60564fee",
   "metadata": {},
   "source": [
    "$Integer$"
   ]
  },
  {
   "cell_type": "code",
   "execution_count": 1,
   "id": "179b6f26-8721-4f46-959c-39c3b7d5604a",
   "metadata": {},
   "outputs": [
    {
     "data": {
      "text/plain": [
       "100"
      ]
     },
     "execution_count": 1,
     "metadata": {},
     "output_type": "execute_result"
    }
   ],
   "source": [
    "number = 100\n",
    "number"
   ]
  },
  {
   "cell_type": "code",
   "execution_count": 2,
   "id": "ce10468f-986b-4e41-9478-6ba4232b3b1b",
   "metadata": {},
   "outputs": [
    {
     "data": {
      "text/plain": [
       "int"
      ]
     },
     "execution_count": 2,
     "metadata": {},
     "output_type": "execute_result"
    }
   ],
   "source": [
    "type(number)"
   ]
  },
  {
   "cell_type": "markdown",
   "id": "19798e44-9f23-4ff8-a1bb-c3313ef97a4b",
   "metadata": {},
   "source": [
    "**Number system**\n",
    "- Binary number system\n",
    "- Decmial number system \n",
    "- Octa number system\n",
    "- Hexa number system"
   ]
  },
  {
   "cell_type": "markdown",
   "id": "7d4194f8-11d5-4789-af60-c34c08b7c1f4",
   "metadata": {},
   "source": [
    "**Binary number system**\n",
    "\n",
    "- It is denoted with **0b** or **0B**\n",
    "- Binary means two\n",
    "- We have generally 0 to 9 digits available\n",
    "- Binary means only two digits allowed : 0 and 1\n",
    "- Ex: 0b101 0b111 0b00 0B001\n",
    "- not vaild : 0b123 0B1000012"
   ]
  },
  {
   "cell_type": "code",
   "execution_count": 6,
   "id": "6cc0eb69-712b-4139-92c0-02af8871c117",
   "metadata": {},
   "outputs": [
    {
     "data": {
      "text/plain": [
       "29"
      ]
     },
     "execution_count": 6,
     "metadata": {},
     "output_type": "execute_result"
    }
   ],
   "source": [
    "0b11101"
   ]
  },
  {
   "cell_type": "code",
   "execution_count": null,
   "id": "a9fc3ae8-781c-45fb-aeab-6c967cf73596",
   "metadata": {},
   "outputs": [],
   "source": [
    "2^4 2^2 2^1 2^0\n",
    "    4   2   1 \n",
    "#####################\n",
    "0   0   0   0   0\n",
    "0   0   0   1   1\n",
    "0   0   1   0   2 \n",
    "0   0   1   1   3\n",
    "0   1   0   0   4 \n",
    "0   1   0   1   5\n",
    "0   1   1   0   6\n",
    "0   1   1   1   7\n",
    "1   0   0   0   8\n",
    "1   0   0   1   9\n",
    "1   0   1   0   10\n",
    "1   0   1   1   11\n",
    "1   1   0   0   12\n",
    "1   1   0   1   13\n",
    "1   1   0   0   14\n",
    "1   1   0   1   15"
   ]
  },
  {
   "cell_type": "markdown",
   "id": "cc5b6984-f218-4fb9-83a7-4147493849c0",
   "metadata": {},
   "source": [
    "**Octa number system**\n",
    "\n",
    "- It is denoted with **0o** or **0O**\n",
    "- Octa means 8\n",
    "- We have generally 0 to 9 digits available\n",
    "- octa means only 8 digits allowed : 0,1,2,3,4,5,6,7\n",
    "- Ex: 0o101 0o111 0O567\n",
    "- not vaild : 0o768 0O169"
   ]
  },
  {
   "cell_type": "code",
   "execution_count": 7,
   "id": "6e5b88b8-4cd5-49af-ac5f-c22d246a670a",
   "metadata": {},
   "outputs": [
    {
     "data": {
      "text/plain": [
       "20000.0"
      ]
     },
     "execution_count": 7,
     "metadata": {},
     "output_type": "execute_result"
    }
   ],
   "source": [
    "1e1  # 1*10=10\n",
    "1e2  #1*100=100\n",
    "2e3  #2*1000=2000\n",
    "2e4  #2*10000=40000"
   ]
  },
  {
   "cell_type": "code",
   "execution_count": 14,
   "id": "225e0f52-e4e4-4df6-9b01-3a1d97a26e4c",
   "metadata": {},
   "outputs": [
    {
     "data": {
      "text/plain": [
       "0.1"
      ]
     },
     "execution_count": 14,
     "metadata": {},
     "output_type": "execute_result"
    }
   ],
   "source": [
    "1e-1"
   ]
  },
  {
   "cell_type": "code",
   "execution_count": 9,
   "id": "5db9e04c-6706-4c61-afed-09a39e6e7a69",
   "metadata": {},
   "outputs": [
    {
     "data": {
      "text/plain": [
       "100.0"
      ]
     },
     "execution_count": 9,
     "metadata": {},
     "output_type": "execute_result"
    }
   ],
   "source": [
    "1e+2"
   ]
  },
  {
   "cell_type": "code",
   "execution_count": 10,
   "id": "31c9ea0b-7983-4495-8ce3-6540253676bb",
   "metadata": {},
   "outputs": [
    {
     "name": "stdout",
     "output_type": "stream",
     "text": [
      "2000.0\n"
     ]
    }
   ],
   "source": [
    "print(2e+3)"
   ]
  },
  {
   "cell_type": "code",
   "execution_count": 13,
   "id": "d752db18-e276-43ad-9cee-f5e2a83c7265",
   "metadata": {},
   "outputs": [
    {
     "name": "stdout",
     "output_type": "stream",
     "text": [
      "40000.0\n"
     ]
    }
   ],
   "source": [
    "print(4e+4)"
   ]
  },
  {
   "cell_type": "code",
   "execution_count": 15,
   "id": "dea7bedc-d53b-44f4-b2d8-724de2d6d46b",
   "metadata": {},
   "outputs": [
    {
     "data": {
      "text/plain": [
       "0.0004"
      ]
     },
     "execution_count": 15,
     "metadata": {},
     "output_type": "execute_result"
    }
   ],
   "source": [
    "4e-4"
   ]
  },
  {
   "cell_type": "code",
   "execution_count": 2,
   "id": "78644593-fafe-459c-a891-1d26e51e45f2",
   "metadata": {},
   "outputs": [
    {
     "name": "stdout",
     "output_type": "stream",
     "text": [
      "i love 'pyhton'\n"
     ]
    }
   ],
   "source": [
    "str = \"i love 'pyhton'\"\n",
    "print(str)"
   ]
  },
  {
   "cell_type": "code",
   "execution_count": null,
   "id": "8b16cbe5-1e11-46bf-8238-b73e337bc2c1",
   "metadata": {},
   "outputs": [],
   "source": []
  },
  {
   "cell_type": "code",
   "execution_count": null,
   "id": "ee450898-d5c1-4250-92f1-a50aef860108",
   "metadata": {},
   "outputs": [],
   "source": []
  }
 ],
 "metadata": {
  "kernelspec": {
   "display_name": "Python 3 (ipykernel)",
   "language": "python",
   "name": "python3"
  },
  "language_info": {
   "codemirror_mode": {
    "name": "ipython",
    "version": 3
   },
   "file_extension": ".py",
   "mimetype": "text/x-python",
   "name": "python",
   "nbconvert_exporter": "python",
   "pygments_lexer": "ipython3",
   "version": "3.12.4"
  }
 },
 "nbformat": 4,
 "nbformat_minor": 5
}
